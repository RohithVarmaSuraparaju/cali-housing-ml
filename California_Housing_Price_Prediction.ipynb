{
 "cells": [
  {
   "cell_type": "markdown",
   "id": "9c47d60a",
   "metadata": {
    "jupyter": {
     "source_hidden": true
    }
   },
   "source": [
    "# California Housing Price Prediction (No-Terminal Notebook)\n",
    "\n",
    "Run **Cell → Run All**."
   ]
  },
  {
   "cell_type": "code",
   "execution_count": 7,
   "id": "85380382",
   "metadata": {},
   "outputs": [
    {
     "name": "stdout",
     "output_type": "stream",
     "text": [
      "Notebook working directory: /Users/mac\n",
      "Model will be saved to: models/rf_cali_housing.joblib\n"
     ]
    }
   ],
   "source": [
    "\n",
    "# 1) Imports & setup\n",
    "import numpy as np\n",
    "import pandas as pd\n",
    "import matplotlib.pyplot as plt\n",
    "from pathlib import Path\n",
    "\n",
    "from sklearn.datasets import fetch_california_housing\n",
    "from sklearn.model_selection import train_test_split\n",
    "from sklearn.compose import ColumnTransformer\n",
    "from sklearn.preprocessing import StandardScaler\n",
    "from sklearn.pipeline import Pipeline\n",
    "from sklearn.metrics import mean_absolute_error, mean_squared_error, r2_score\n",
    "from sklearn.ensemble import RandomForestRegressor\n",
    "\n",
    "import joblib\n",
    "\n",
    "OUT_DIR = Path(\"models\")\n",
    "OUT_DIR.mkdir(parents=True, exist_ok=True)\n",
    "MODEL_PATH = OUT_DIR / \"rf_cali_housing.joblib\"\n",
    "\n",
    "print(\"Notebook working directory:\", Path.cwd())\n",
    "print(\"Model will be saved to:\", MODEL_PATH)\n"
   ]
  },
  {
   "cell_type": "code",
   "execution_count": 8,
   "id": "f56042f6",
   "metadata": {},
   "outputs": [
    {
     "name": "stdout",
     "output_type": "stream",
     "text": [
      "Features: ['MedInc', 'HouseAge', 'AveRooms', 'AveBedrms', 'Population', 'AveOccup', 'Latitude', 'Longitude']\n",
      "Shapes -> X: (20640, 8) | y: (20640,)\n"
     ]
    },
    {
     "data": {
      "text/html": [
       "<div>\n",
       "<style scoped>\n",
       "    .dataframe tbody tr th:only-of-type {\n",
       "        vertical-align: middle;\n",
       "    }\n",
       "\n",
       "    .dataframe tbody tr th {\n",
       "        vertical-align: top;\n",
       "    }\n",
       "\n",
       "    .dataframe thead th {\n",
       "        text-align: right;\n",
       "    }\n",
       "</style>\n",
       "<table border=\"1\" class=\"dataframe\">\n",
       "  <thead>\n",
       "    <tr style=\"text-align: right;\">\n",
       "      <th></th>\n",
       "      <th>MedInc</th>\n",
       "      <th>HouseAge</th>\n",
       "      <th>AveRooms</th>\n",
       "      <th>AveBedrms</th>\n",
       "      <th>Population</th>\n",
       "      <th>AveOccup</th>\n",
       "      <th>Latitude</th>\n",
       "      <th>Longitude</th>\n",
       "    </tr>\n",
       "  </thead>\n",
       "  <tbody>\n",
       "    <tr>\n",
       "      <th>0</th>\n",
       "      <td>8.3252</td>\n",
       "      <td>41.0</td>\n",
       "      <td>6.984127</td>\n",
       "      <td>1.023810</td>\n",
       "      <td>322.0</td>\n",
       "      <td>2.555556</td>\n",
       "      <td>37.88</td>\n",
       "      <td>-122.23</td>\n",
       "    </tr>\n",
       "    <tr>\n",
       "      <th>1</th>\n",
       "      <td>8.3014</td>\n",
       "      <td>21.0</td>\n",
       "      <td>6.238137</td>\n",
       "      <td>0.971880</td>\n",
       "      <td>2401.0</td>\n",
       "      <td>2.109842</td>\n",
       "      <td>37.86</td>\n",
       "      <td>-122.22</td>\n",
       "    </tr>\n",
       "    <tr>\n",
       "      <th>2</th>\n",
       "      <td>7.2574</td>\n",
       "      <td>52.0</td>\n",
       "      <td>8.288136</td>\n",
       "      <td>1.073446</td>\n",
       "      <td>496.0</td>\n",
       "      <td>2.802260</td>\n",
       "      <td>37.85</td>\n",
       "      <td>-122.24</td>\n",
       "    </tr>\n",
       "    <tr>\n",
       "      <th>3</th>\n",
       "      <td>5.6431</td>\n",
       "      <td>52.0</td>\n",
       "      <td>5.817352</td>\n",
       "      <td>1.073059</td>\n",
       "      <td>558.0</td>\n",
       "      <td>2.547945</td>\n",
       "      <td>37.85</td>\n",
       "      <td>-122.25</td>\n",
       "    </tr>\n",
       "    <tr>\n",
       "      <th>4</th>\n",
       "      <td>3.8462</td>\n",
       "      <td>52.0</td>\n",
       "      <td>6.281853</td>\n",
       "      <td>1.081081</td>\n",
       "      <td>565.0</td>\n",
       "      <td>2.181467</td>\n",
       "      <td>37.85</td>\n",
       "      <td>-122.25</td>\n",
       "    </tr>\n",
       "  </tbody>\n",
       "</table>\n",
       "</div>"
      ],
      "text/plain": [
       "   MedInc  HouseAge  AveRooms  AveBedrms  Population  AveOccup  Latitude  \\\n",
       "0  8.3252      41.0  6.984127   1.023810       322.0  2.555556     37.88   \n",
       "1  8.3014      21.0  6.238137   0.971880      2401.0  2.109842     37.86   \n",
       "2  7.2574      52.0  8.288136   1.073446       496.0  2.802260     37.85   \n",
       "3  5.6431      52.0  5.817352   1.073059       558.0  2.547945     37.85   \n",
       "4  3.8462      52.0  6.281853   1.081081       565.0  2.181467     37.85   \n",
       "\n",
       "   Longitude  \n",
       "0    -122.23  \n",
       "1    -122.22  \n",
       "2    -122.24  \n",
       "3    -122.25  \n",
       "4    -122.25  "
      ]
     },
     "execution_count": 8,
     "metadata": {},
     "output_type": "execute_result"
    }
   ],
   "source": [
    "\n",
    "# 2) Load dataset\n",
    "data = fetch_california_housing(as_frame=True)\n",
    "df = data.frame.copy()\n",
    "X = df.drop(columns=[\"MedHouseVal\"])\n",
    "y = df[\"MedHouseVal\"]\n",
    "\n",
    "print(\"Features:\", list(X.columns))\n",
    "print(\"Shapes -> X:\", X.shape, \"| y:\", y.shape)\n",
    "X.head()\n"
   ]
  },
  {
   "cell_type": "code",
   "execution_count": 9,
   "id": "92b350f5",
   "metadata": {},
   "outputs": [
    {
     "name": "stdout",
     "output_type": "stream",
     "text": [
      "Train size: (16512, 8) Test size: (4128, 8)\n"
     ]
    }
   ],
   "source": [
    "\n",
    "# 3) Train/test split\n",
    "X_train, X_test, y_train, y_test = train_test_split(X, y, test_size=0.2, random_state=42)\n",
    "print(\"Train size:\", X_train.shape, \"Test size:\", X_test.shape)\n"
   ]
  },
  {
   "cell_type": "code",
   "execution_count": 10,
   "id": "36f71b75",
   "metadata": {},
   "outputs": [
    {
     "name": "stdout",
     "output_type": "stream",
     "text": [
      "✅ Trained and saved model to: models/rf_cali_housing.joblib\n"
     ]
    }
   ],
   "source": [
    "\n",
    "# 4) Pipeline: scale numeric + RandomForest\n",
    "numeric_features = list(X.columns)\n",
    "pre = ColumnTransformer([(\"num\", StandardScaler(), numeric_features)], remainder=\"drop\")\n",
    "model = RandomForestRegressor(n_estimators=300, random_state=42, n_jobs=-1)\n",
    "pipe = Pipeline([(\"pre\", pre), (\"model\", model)])\n",
    "\n",
    "pipe.fit(X_train, y_train)\n",
    "joblib.dump(pipe, MODEL_PATH)\n",
    "print(\"✅ Trained and saved model to:\", MODEL_PATH)\n"
   ]
  },
  {
   "cell_type": "code",
   "execution_count": 14,
   "id": "d3b54016",
   "metadata": {},
   "outputs": [
    {
     "name": "stdout",
     "output_type": "stream",
     "text": [
      "MAE : 0.326\n",
      "RMSE: 0.503\n",
      "R^2 : 0.807\n"
     ]
    }
   ],
   "source": [
    "# 5) Evaluate  (compatible with all sklearn versions)\n",
    "preds = pipe.predict(X_test)\n",
    "\n",
    "mae = mean_absolute_error(y_test, preds)\n",
    "mse = mean_squared_error(y_test, preds)   # MSE\n",
    "rmse = mse ** 0.5                         # RMSE = sqrt(MSE)\n",
    "r2 = r2_score(y_test, preds)\n",
    "\n",
    "print(f\"MAE : {mae:.3f}\")\n",
    "print(f\"RMSE: {rmse:.3f}\")\n",
    "print(f\"R^2 : {r2:.3f}\")\n"
   ]
  },
  {
   "cell_type": "code",
   "execution_count": 15,
   "id": "729124f9",
   "metadata": {},
   "outputs": [
    {
     "name": "stdout",
     "output_type": "stream",
     "text": [
      "Top features:\n",
      "       feature  importance\n",
      "0      MedInc    0.525739\n",
      "5    AveOccup    0.138087\n",
      "7   Longitude    0.088589\n",
      "6    Latitude    0.088516\n",
      "1    HouseAge    0.054228\n",
      "2    AveRooms    0.044642\n",
      "4  Population    0.030484\n",
      "3   AveBedrms    0.029715\n"
     ]
    },
    {
     "data": {
      "image/png": "[encoded data removed]",
      "text/plain": [
       "<Figure size 800x500 with 1 Axes>"
      ]
     },
     "metadata": {},
     "output_type": "display_data"
    }
   ],
   "source": [
    "\n",
    "# 6) Feature importances\n",
    "rf = pipe.named_steps[\"model\"]\n",
    "importances = rf.feature_importances_\n",
    "import pandas as pd\n",
    "fi = pd.DataFrame({\"feature\": numeric_features, \"importance\": importances}).sort_values(\"importance\", ascending=False)\n",
    "\n",
    "print(\"Top features:\\n\", fi.head(10))\n",
    "\n",
    "plt.figure(figsize=(8,5))\n",
    "plt.barh(fi[\"feature\"], fi[\"importance\"])\n",
    "plt.gca().invert_yaxis()\n",
    "plt.title(\"Feature Importances (RandomForest)\")\n",
    "plt.xlabel(\"Importance\")\n",
    "plt.ylabel(\"Feature\")\n",
    "plt.tight_layout()\n",
    "plt.show()\n"
   ]
  },
  {
   "cell_type": "code",
   "execution_count": 17,
   "id": "70ccbc9c",
   "metadata": {},
   "outputs": [
    {
     "name": "stdout",
     "output_type": "stream",
     "text": [
      "Example predicted price: $228,562\n"
     ]
    }
   ],
   "source": [
    "# 7) Quick prediction helper (fixed for ColumnTransformer with named columns)\n",
    "import numpy as np\n",
    "import pandas as pd\n",
    "import joblib\n",
    "\n",
    "# Feature order reference (used during training):\n",
    "# ['MedInc','HouseAge','AveRooms','AveBedrms','Population','AveOccup','Latitude','Longitude']\n",
    "\n",
    "def predict_price(medinc, house_age, ave_rooms, ave_bedrms, population, ave_occup, latitude, longitude):\n",
    "    model = joblib.load(MODEL_PATH)\n",
    "\n",
    "    # Try to read the exact feature names from the saved pipeline\n",
    "    try:\n",
    "        feature_names = list(model.named_steps[\"pre\"].transformers_[0][2])\n",
    "    except Exception:\n",
    "        # Fallback to the known order if not available\n",
    "        feature_names = ['MedInc','HouseAge','AveRooms','AveBedrms','Population','AveOccup','Latitude','Longitude']\n",
    "\n",
    "    row = [[medinc, house_age, ave_rooms, ave_bedrms, population, ave_occup, latitude, longitude]]\n",
    "    df = pd.DataFrame(row, columns=feature_names)  # <-- DataFrame with names\n",
    "    pred_100k = model.predict(df)[0]               # model was trained with target in $100k\n",
    "    return pred_100k * 100000\n",
    "\n",
    "# Example\n",
    "example = predict_price(5.0, 25, 6.0, 1.0, 1000, 3.0, 34.2, -118.3)\n",
    "print(f\"Example predicted price: ${example:,.0f}\")\n"
   ]
  },
  {
   "cell_type": "code",
   "execution_count": null,
   "id": "3eef2639-ebbf-4b3a-9bf0-a715397a06c1",
   "metadata": {},
   "outputs": [],
   "source": []
  },
  {
   "cell_type": "code",
   "execution_count": null,
   "id": "e9248224-9c84-42be-a8b3-ab78e7b54bb1",
   "metadata": {},
   "outputs": [],
   "source": []
  }
 ],
 "metadata": {
  "kernelspec": {
   "display_name": "Python 3 (ipykernel)",
   "language": "python",
   "name": "python3"
  },
  "language_info": {
   "codemirror_mode": {
    "name": "ipython",
    "version": 3
   },
   "file_extension": ".py",
   "mimetype": "text/x-python",
   "name": "python",
   "nbconvert_exporter": "python",
   "pygments_lexer": "ipython3",
   "version": "3.12.11"
  }
 },
 "nbformat": 4,
 "nbformat_minor": 5
}
