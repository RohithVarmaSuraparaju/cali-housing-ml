{
 "cells": [
  {
   "cell_type": "markdown",
   "id": "9c47d60a",
   "metadata": {},
   "source": [
    "# California Housing Price Prediction (No-Terminal Notebook)\n",
    "\n",
    "Run **Cell → Run All**."
   ]
  },
  {
   "cell_type": "code",
   "execution_count": null,
   "id": "85380382",
   "metadata": {},
   "outputs": [],
   "source": [
    "\n",
    "# 1) Imports & setup\n",
    "import numpy as np\n",
    "import pandas as pd\n",
    "import matplotlib.pyplot as plt\n",
    "from pathlib import Path\n",
    "\n",
    "from sklearn.datasets import fetch_california_housing\n",
    "from sklearn.model_selection import train_test_split\n",
    "from sklearn.compose import ColumnTransformer\n",
    "from sklearn.preprocessing import StandardScaler\n",
    "from sklearn.pipeline import Pipeline\n",
    "from sklearn.metrics import mean_absolute_error, mean_squared_error, r2_score\n",
    "from sklearn.ensemble import RandomForestRegressor\n",
    "\n",
    "import joblib\n",
    "\n",
    "OUT_DIR = Path(\"models\")\n",
    "OUT_DIR.mkdir(parents=True, exist_ok=True)\n",
    "MODEL_PATH = OUT_DIR / \"rf_cali_housing.joblib\"\n",
    "\n",
    "print(\"Notebook working directory:\", Path.cwd())\n",
    "print(\"Model will be saved to:\", MODEL_PATH)\n"
   ]
  },
  {
   "cell_type": "code",
   "execution_count": null,
   "id": "f56042f6",
   "metadata": {},
   "outputs": [],
   "source": [
    "\n",
    "# 2) Load dataset\n",
    "data = fetch_california_housing(as_frame=True)\n",
    "df = data.frame.copy()\n",
    "X = df.drop(columns=[\"MedHouseVal\"])\n",
    "y = df[\"MedHouseVal\"]\n",
    "\n",
    "print(\"Features:\", list(X.columns))\n",
    "print(\"Shapes -> X:\", X.shape, \"| y:\", y.shape)\n",
    "X.head()\n"
   ]
  },
  {
   "cell_type": "code",
   "execution_count": null,
   "id": "92b350f5",
   "metadata": {},
   "outputs": [],
   "source": [
    "\n",
    "# 3) Train/test split\n",
    "X_train, X_test, y_train, y_test = train_test_split(X, y, test_size=0.2, random_state=42)\n",
    "print(\"Train size:\", X_train.shape, \"Test size:\", X_test.shape)\n"
   ]
  },
  {
   "cell_type": "code",
   "execution_count": null,
   "id": "36f71b75",
   "metadata": {},
   "outputs": [],
   "source": [
    "\n",
    "# 4) Pipeline: scale numeric + RandomForest\n",
    "numeric_features = list(X.columns)\n",
    "pre = ColumnTransformer([(\"num\", StandardScaler(), numeric_features)], remainder=\"drop\")\n",
    "model = RandomForestRegressor(n_estimators=300, random_state=42, n_jobs=-1)\n",
    "pipe = Pipeline([(\"pre\", pre), (\"model\", model)])\n",
    "\n",
    "pipe.fit(X_train, y_train)\n",
    "joblib.dump(pipe, MODEL_PATH)\n",
    "print(\"✅ Trained and saved model to:\", MODEL_PATH)\n"
   ]
  },
  {
   "cell_type": "code",
   "execution_count": null,
   "id": "d3b54016",
   "metadata": {},
   "outputs": [],
   "source": [
    "\n",
    "# 5) Evaluate\n",
    "preds = pipe.predict(X_test)\n",
    "mae = mean_absolute_error(y_test, preds)\n",
    "rmse = mean_squared_error(y_test, preds, squared=False)\n",
    "r2 = r2_score(y_test, preds)\n",
    "\n",
    "print(f\"MAE : {mae:.3f}\")\n",
    "print(f\"RMSE: {rmse:.3f}\")\n",
    "print(f\"R^2 : {r2:.3f}\")\n"
   ]
  },
  {
   "cell_type": "code",
   "execution_count": null,
   "id": "729124f9",
   "metadata": {},
   "outputs": [],
   "source": [
    "\n",
    "# 6) Feature importances\n",
    "rf = pipe.named_steps[\"model\"]\n",
    "importances = rf.feature_importances_\n",
    "import pandas as pd\n",
    "fi = pd.DataFrame({\"feature\": numeric_features, \"importance\": importances}).sort_values(\"importance\", ascending=False)\n",
    "\n",
    "print(\"Top features:\\n\", fi.head(10))\n",
    "\n",
    "plt.figure(figsize=(8,5))\n",
    "plt.barh(fi[\"feature\"], fi[\"importance\"])\n",
    "plt.gca().invert_yaxis()\n",
    "plt.title(\"Feature Importances (RandomForest)\")\n",
    "plt.xlabel(\"Importance\")\n",
    "plt.ylabel(\"Feature\")\n",
    "plt.tight_layout()\n",
    "plt.show()\n"
   ]
  },
  {
   "cell_type": "code",
   "execution_count": null,
   "id": "70ccbc9c",
   "metadata": {},
   "outputs": [],
   "source": [
    "\n",
    "# 7) Quick prediction helper\n",
    "# Feature order: ['MedInc','HouseAge','AveRooms','AveBedrms','Population','AveOccup','Latitude','Longitude']\n",
    "\n",
    "def predict_price(medinc, house_age, ave_rooms, ave_bedrms, population, ave_occup, latitude, longitude):\n",
    "    arr = np.array([[medinc, house_age, ave_rooms, ave_bedrms, population, ave_occup, latitude, longitude]])\n",
    "    model = joblib.load(MODEL_PATH)\n",
    "    return model.predict(arr)[0] * 100000  # convert 100k -> dollars\n",
    "\n",
    "example = predict_price(5.0, 25, 6.0, 1.0, 1000, 3.0, 34.2, -118.3)\n",
    "print(f\"Example predicted price: ${example:,.0f}\")\n"
   ]
  }
 ],
 "metadata": {},
 "nbformat": 4,
 "nbformat_minor": 5
}
